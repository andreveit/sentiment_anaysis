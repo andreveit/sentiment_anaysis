{
 "cells": [
  {
   "cell_type": "markdown",
   "id": "communist-shelf",
   "metadata": {},
   "source": [
    "## Create Animation"
   ]
  },
  {
   "cell_type": "code",
   "execution_count": 13,
   "id": "correct-advice",
   "metadata": {},
   "outputs": [],
   "source": [
    "import numpy as np\n",
    "import pandas as pd\n",
    "import matplotlib.pyplot as plt\n",
    "import cv2\n",
    "import os\n",
    "from wordcloud import WordCloud as wc"
   ]
  },
  {
   "cell_type": "code",
   "execution_count": 14,
   "id": "occasional-appendix",
   "metadata": {},
   "outputs": [],
   "source": [
    "df = pd.read_csv('tokens.csv')"
   ]
  },
  {
   "cell_type": "code",
   "execution_count": 15,
   "id": "wired-nitrogen",
   "metadata": {},
   "outputs": [],
   "source": [
    "tokens = df.tokens.tolist()"
   ]
  },
  {
   "cell_type": "code",
   "execution_count": 85,
   "id": "developed-ladder",
   "metadata": {},
   "outputs": [
    {
     "data": {
      "text/plain": [
       "['Kindle product far disappointed child love use like ability monitor control content see ease',\n",
       " 'fast great beginner experienced person Ought gift love',\n",
       " 'Beginner tablet 9 year old son Expensive tablet use learn step NABI thrill learn Type already',\n",
       " 'Good Ive Fire 8 two week love tablet great valueHe Crime Members tablet SHINES love able easily access Crime content well move download watch lateralis 1280800 screen really nice look nice crisp bright intact brighter pad pro cost 900 base model build fire INSANELY AWESOME run 7mmm thick smooth glossy feel back really amaze hold like futuristic tax hand',\n",
       " 'Fantastic Tablet kiss bought grand daughter come visit set user enter age name Amazon make sure access site content appropriate age Simple love capability also bought instal gig card give little tablet plenty storage price think tablet best one spend hundred dollar additional speed capacity come basis tablet everything people ever need fraction cost']"
      ]
     },
     "execution_count": 85,
     "metadata": {},
     "output_type": "execute_result"
    }
   ],
   "source": [
    "tokens[:5]"
   ]
  },
  {
   "cell_type": "code",
   "execution_count": 88,
   "id": "chinese-redhead",
   "metadata": {},
   "outputs": [
    {
     "name": "stdout",
     "output_type": "stream",
     "text": [
      "done\n"
     ]
    }
   ],
   "source": [
    "#Define video dimentions\n",
    "width = 1500\n",
    "height = 800\n",
    "my_dpi = 300\n",
    "\n",
    "#Create directory\n",
    "if os.path.isdir('./Animation') == False:\n",
    "    os.mkdir('./Animation')\n",
    "\n",
    "#Set up the video writer\n",
    "fourcc = cv2.VideoWriter_fourcc(*'mp4v') \n",
    "video=cv2.VideoWriter('Animation/wordcloud_animation.avi', fourcc, 2, (795, 431))\n",
    "\n",
    "#Frame generator\n",
    "for i in range(8):\n",
    "    \n",
    "    #Generate Word Cloud\n",
    "    wc_img = wc(width = width, height = height, \n",
    "                    background_color ='white', \n",
    "                    min_font_size = 10).generate(str(tokens))\n",
    "\n",
    "\n",
    "    #Plot settings\n",
    "    fig, ax = plt.subplots(figsize = (14,8))\n",
    "    ax.imshow(wc_img, interpolation='nearest') \n",
    "    plt.axis('off')\n",
    "    \n",
    "    #Save images\n",
    "    figname = 'Animation/' + str(i)\n",
    "    plt.savefig(figname, transparent=False, bbox_inches= 'tight', facecolor = 'white')\n",
    "    plt.close()\n",
    "\n",
    "    #Open images and add to the video\n",
    "    img = cv2.imread(figname+'.png')\n",
    "    video.write(img)\n",
    "    os.remove(figname+'.png')\n",
    "\n",
    "    \n",
    "#Release the video file    \n",
    "cv2.destroyAllWindows()\n",
    "video.release()\n",
    "print('done')"
   ]
  },
  {
   "cell_type": "code",
   "execution_count": null,
   "id": "confidential-density",
   "metadata": {},
   "outputs": [],
   "source": []
  }
 ],
 "metadata": {
  "kernelspec": {
   "display_name": "Python 3",
   "language": "python",
   "name": "python3"
  },
  "language_info": {
   "codemirror_mode": {
    "name": "ipython",
    "version": 3
   },
   "file_extension": ".py",
   "mimetype": "text/x-python",
   "name": "python",
   "nbconvert_exporter": "python",
   "pygments_lexer": "ipython3",
   "version": "3.8.5"
  }
 },
 "nbformat": 4,
 "nbformat_minor": 5
}
